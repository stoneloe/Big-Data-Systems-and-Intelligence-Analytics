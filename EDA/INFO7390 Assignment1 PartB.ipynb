{
 "cells": [
  {
   "cell_type": "markdown",
   "metadata": {},
   "source": [
    "# Assignment1 Part B Writing a web scraper"
   ]
  },
  {
   "cell_type": "code",
   "execution_count": 1,
   "metadata": {
    "collapsed": true
   },
   "outputs": [],
   "source": [
    "import requests\n",
    "from bs4 import BeautifulSoup\n",
    "import re"
   ]
  },
  {
   "cell_type": "code",
   "execution_count": 2,
   "metadata": {},
   "outputs": [
    {
     "data": {
      "text/plain": [
       "200"
      ]
     },
     "execution_count": 2,
     "metadata": {},
     "output_type": "execute_result"
    }
   ],
   "source": [
    "url = 'https://wikimediafoundation.org/wiki/Home'\n",
    "res = requests.get(url)\n",
    "res.status_code"
   ]
  },
  {
   "cell_type": "code",
   "execution_count": 3,
   "metadata": {
    "collapsed": true
   },
   "outputs": [],
   "source": [
    "soup=BeautifulSoup(res.text, 'html.parser')"
   ]
  },
  {
   "cell_type": "markdown",
   "metadata": {},
   "source": [
    "#### Collect all of the external links:"
   ]
  },
  {
   "cell_type": "code",
   "execution_count": 4,
   "metadata": {},
   "outputs": [
    {
     "data": {
      "text/plain": [
       "['https://en.wikipedia.org/wiki/en:free_content',\n",
       " 'https://en.wikipedia.org/wiki/wiki',\n",
       " 'https://www.wikipedia.org',\n",
       " 'https://blog.wikimedia.org/2018/01/23/cote-divoire-library-partnerships/',\n",
       " 'https://blog.wikimedia.org/2018/01/23/education-survey-report/',\n",
       " 'https://blog.wikimedia.org/2018/01/18/on-that-net-neutrality-clickstream-diagram/',\n",
       " 'https://blog.wikimedia.org/2018/01/17/public-domain-grows-next-year/',\n",
       " 'https://blog.wikimedia.org/2018/01/17/add-your-photos-to-wikimedia-commons/',\n",
       " 'https://blog.wikimedia.org/',\n",
       " 'https://donate.wikimedia.org/wiki/Special:FundraiserRedirector',\n",
       " 'https://donate.wikimedia.org/wiki/Special:FundraiserRedirector',\n",
       " 'https://annual.wikimedia.org/',\n",
       " 'https://annual.wikimedia.org/',\n",
       " 'https://lists.wikimedia.org/mailman/listinfo/WikimediaAnnounce-l',\n",
       " 'https://meta.wikimedia.org/wiki/Wikimedia_Foundation_Annual_Plan/2017-2018/Final',\n",
       " 'https://policy.wikimedia.org/',\n",
       " 'https://transparency.wikimedia.org/',\n",
       " 'https://status.wikimedia.org/',\n",
       " 'https://meta.wikimedia.org/wiki/IRC_Office_Hours',\n",
       " 'https://meta.wikimedia.org/wiki/Fundraising',\n",
       " 'https://www.wikipedia.org',\n",
       " 'https://www.wikipedia.org',\n",
       " 'https://www.wiktionary.org',\n",
       " 'https://www.wiktionary.org',\n",
       " 'https://www.wikinews.org',\n",
       " 'https://www.wikinews.org',\n",
       " 'https://www.wikibooks.org',\n",
       " 'https://www.wikibooks.org',\n",
       " 'https://www.wikiquote.org',\n",
       " 'https://www.wikiquote.org',\n",
       " 'https://www.wikisource.org',\n",
       " 'https://www.wikisource.org',\n",
       " 'https://www.wikiversity.org',\n",
       " 'https://www.wikiversity.org',\n",
       " 'https://www.wikivoyage.org',\n",
       " 'https://www.wikivoyage.org',\n",
       " 'https://species.wikimedia.org',\n",
       " 'https://species.wikimedia.org',\n",
       " 'https://commons.wikimedia.org',\n",
       " 'https://commons.wikimedia.org',\n",
       " 'https://www.wikidata.org',\n",
       " 'https://www.wikidata.org',\n",
       " 'https://www.mediawiki.org',\n",
       " 'https://www.mediawiki.org',\n",
       " 'https://blog.wikimedia.org',\n",
       " 'https://store.wikimedia.org',\n",
       " 'https://creativecommons.org/licenses/by-sa/3.0/',\n",
       " 'https://www.mediawiki.org/wiki/Special:MyLanguage/How_to_contribute',\n",
       " 'https://www.mediawiki.org/']"
      ]
     },
     "execution_count": 4,
     "metadata": {},
     "output_type": "execute_result"
    }
   ],
   "source": [
    "def splitUrl(url):\n",
    "    parts  =  url.replace(\"https://\", \"\").split(\"/\")\n",
    "    return parts[0]\n",
    "    \n",
    "domain = splitUrl(url)\n",
    "a_list = soup.find_all('a', href=re.compile(\"^((?!\"+domain+\").)*$\"))\n",
    "                       \n",
    "def get_link(a):\n",
    "    href = a.get('href')\n",
    "    if href is None:\n",
    "        return\n",
    "    \n",
    "    if href.startswith('//'):\n",
    "        href = 'https:' + href\n",
    "    \n",
    "    if not href.startswith('https'):\n",
    "        return\n",
    "        \n",
    "    return href\n",
    "\n",
    "links = [get_link(a) for a in a_list if get_link(a)]\n",
    "links"
   ]
  },
  {
   "cell_type": "markdown",
   "metadata": {},
   "source": [
    "#### Associate the link with a textual description of it from the website:"
   ]
  },
  {
   "cell_type": "code",
   "execution_count": 5,
   "metadata": {},
   "outputs": [
    {
     "data": {
      "text/plain": [
       "[('https://en.wikipedia.org/wiki/en:free_content', 'free'),\n",
       " ('https://en.wikipedia.org/wiki/wiki', 'wiki'),\n",
       " ('https://www.wikipedia.org', 'Wikipedia'),\n",
       " ('https://blog.wikimedia.org/2018/01/23/cote-divoire-library-partnerships/',\n",
       "  'In Cote d’Ivoire, partnering with libraries provides opportunities'),\n",
       " ('https://blog.wikimedia.org/2018/01/23/education-survey-report/',\n",
       "  'Three ways we’re changing the Education team at the Wikimedia Foundation'),\n",
       " ('https://blog.wikimedia.org/2018/01/18/on-that-net-neutrality-clickstream-diagram/',\n",
       "  'How we made that net neutrality clickstream diagram'),\n",
       " ('https://blog.wikimedia.org/2018/01/17/public-domain-grows-next-year/',\n",
       "  'The public domain starts growing again next year, and it’s about time'),\n",
       " ('https://blog.wikimedia.org/2018/01/17/add-your-photos-to-wikimedia-commons/',\n",
       "  'How to add your photos to Wikimedia Commons and add to the sum of all knowledge'),\n",
       " ('https://blog.wikimedia.org/', 'Read the complete blog archive. »'),\n",
       " ('https://donate.wikimedia.org/wiki/Special:FundraiserRedirector', 'money'),\n",
       " ('https://donate.wikimedia.org/wiki/Special:FundraiserRedirector',\n",
       "  'fundraising'),\n",
       " ('https://annual.wikimedia.org/', 'Knowledge belongs to all of us.'),\n",
       " ('https://annual.wikimedia.org/',\n",
       "  'The 2016–2017 Annual Report:Knowledge belongs to all of us.'),\n",
       " ('https://lists.wikimedia.org/mailman/listinfo/WikimediaAnnounce-l',\n",
       "  'sign up'),\n",
       " ('https://meta.wikimedia.org/wiki/Wikimedia_Foundation_Annual_Plan/2017-2018/Final',\n",
       "  '2017–2018 Wikimedia Foundation Annual Plan'),\n",
       " ('https://policy.wikimedia.org/', 'Wikimedia Foundation public policy'),\n",
       " ('https://transparency.wikimedia.org/',\n",
       "  'Wikimedia Foundation transparency report'),\n",
       " ('https://status.wikimedia.org/', 'Website availability status dashboard'),\n",
       " ('https://meta.wikimedia.org/wiki/IRC_Office_Hours', 'office hours'),\n",
       " ('https://meta.wikimedia.org/wiki/Fundraising',\n",
       "  'community fundraising landing page'),\n",
       " ('https://www.wikipedia.org', ''),\n",
       " ('https://www.wikipedia.org', 'Wikipedia'),\n",
       " ('https://www.wiktionary.org', ''),\n",
       " ('https://www.wiktionary.org', 'Wiktionary'),\n",
       " ('https://www.wikinews.org', ''),\n",
       " ('https://www.wikinews.org', 'Wikinews'),\n",
       " ('https://www.wikibooks.org', ''),\n",
       " ('https://www.wikibooks.org', 'Wikibooks'),\n",
       " ('https://www.wikiquote.org', ''),\n",
       " ('https://www.wikiquote.org', 'Wikiquote'),\n",
       " ('https://www.wikisource.org', ''),\n",
       " ('https://www.wikisource.org', 'Wikisource'),\n",
       " ('https://www.wikiversity.org', ''),\n",
       " ('https://www.wikiversity.org', 'Wikiversity'),\n",
       " ('https://www.wikivoyage.org', ''),\n",
       " ('https://www.wikivoyage.org', 'Wikivoyage'),\n",
       " ('https://species.wikimedia.org', ''),\n",
       " ('https://species.wikimedia.org', 'Wikispecies'),\n",
       " ('https://commons.wikimedia.org', ''),\n",
       " ('https://commons.wikimedia.org', 'Commons'),\n",
       " ('https://www.wikidata.org', ''),\n",
       " ('https://www.wikidata.org', 'Wikidata'),\n",
       " ('https://www.mediawiki.org', ''),\n",
       " ('https://www.mediawiki.org', 'MediaWiki'),\n",
       " ('https://blog.wikimedia.org', 'Wikimedia Blog'),\n",
       " ('https://store.wikimedia.org', 'Wikimedia Shop'),\n",
       " ('https://creativecommons.org/licenses/by-sa/3.0/',\n",
       "  'Creative Commons Attribution-ShareAlike License'),\n",
       " ('https://www.mediawiki.org/wiki/Special:MyLanguage/How_to_contribute',\n",
       "  'Developers'),\n",
       " ('https://www.mediawiki.org/', '')]"
      ]
     },
     "execution_count": 5,
     "metadata": {},
     "output_type": "execute_result"
    }
   ],
   "source": [
    "def get_link_with_text(a):\n",
    "    href = a.get('href')\n",
    "    if href is None:\n",
    "        return\n",
    "    \n",
    "    if href.startswith('//'):\n",
    "        href = 'https:' + href\n",
    "    \n",
    "    if not href.startswith('https'):\n",
    "        return\n",
    "    \n",
    "    return href, a.text\n",
    "\n",
    "links_text = [get_link_with_text(a) for a in a_list if get_link_with_text(a)]\n",
    "links_text"
   ]
  },
  {
   "cell_type": "markdown",
   "metadata": {},
   "source": [
    "#### function to check whether the link is valid:"
   ]
  },
  {
   "cell_type": "code",
   "execution_count": 6,
   "metadata": {
    "collapsed": true
   },
   "outputs": [],
   "source": [
    "from datetime import datetime\n",
    "\n",
    "class Validate(object):\n",
    "    def __init__(self):\n",
    "        self.cache = dict()\n",
    "    \n",
    "    def validateUrl(self, url):\n",
    "        if url in self.cache: \n",
    "            return self.cache[url]\n",
    "        \n",
    "        response = requests.get(url)\n",
    "        self.last_check = datetime.now().strftime(\"%A %B %-d, %Y %I:%M %p\")\n",
    "        result = response.status_code == 200\n",
    "        self.cache[url] = (self.last_check, result)\n",
    "        print('{}\\t{}'.format(url, result))\n",
    "        return self.last_check, result"
   ]
  },
  {
   "cell_type": "code",
   "execution_count": 7,
   "metadata": {},
   "outputs": [
    {
     "name": "stdout",
     "output_type": "stream",
     "text": [
      "https://en.wikipedia.org/wiki/en:free_content\tTrue\n",
      "https://en.wikipedia.org/wiki/wiki\tTrue\n",
      "https://www.wikipedia.org\tTrue\n",
      "https://blog.wikimedia.org/2018/01/23/cote-divoire-library-partnerships/\tTrue\n",
      "https://blog.wikimedia.org/2018/01/23/education-survey-report/\tTrue\n",
      "https://blog.wikimedia.org/2018/01/18/on-that-net-neutrality-clickstream-diagram/\tTrue\n",
      "https://blog.wikimedia.org/2018/01/17/public-domain-grows-next-year/\tTrue\n",
      "https://blog.wikimedia.org/2018/01/17/add-your-photos-to-wikimedia-commons/\tTrue\n",
      "https://blog.wikimedia.org/\tTrue\n",
      "https://donate.wikimedia.org/wiki/Special:FundraiserRedirector\tTrue\n",
      "https://annual.wikimedia.org/\tTrue\n",
      "https://lists.wikimedia.org/mailman/listinfo/WikimediaAnnounce-l\tTrue\n",
      "https://meta.wikimedia.org/wiki/Wikimedia_Foundation_Annual_Plan/2017-2018/Final\tTrue\n",
      "https://policy.wikimedia.org/\tTrue\n",
      "https://transparency.wikimedia.org/\tTrue\n",
      "https://status.wikimedia.org/\tTrue\n",
      "https://meta.wikimedia.org/wiki/IRC_Office_Hours\tTrue\n",
      "https://meta.wikimedia.org/wiki/Fundraising\tTrue\n",
      "https://www.wiktionary.org\tTrue\n",
      "https://www.wikinews.org\tTrue\n",
      "https://www.wikibooks.org\tTrue\n",
      "https://www.wikiquote.org\tTrue\n",
      "https://www.wikisource.org\tTrue\n",
      "https://www.wikiversity.org\tTrue\n",
      "https://www.wikivoyage.org\tTrue\n",
      "https://species.wikimedia.org\tTrue\n",
      "https://commons.wikimedia.org\tTrue\n",
      "https://www.wikidata.org\tTrue\n",
      "https://www.mediawiki.org\tTrue\n",
      "https://blog.wikimedia.org\tTrue\n",
      "https://store.wikimedia.org\tTrue\n",
      "https://creativecommons.org/licenses/by-sa/3.0/\tTrue\n",
      "https://www.mediawiki.org/wiki/Special:MyLanguage/How_to_contribute\tTrue\n",
      "https://www.mediawiki.org/\tTrue\n"
     ]
    }
   ],
   "source": [
    "from itertools import chain\n",
    "v = Validate()\n",
    "res = [list(chain.from_iterable((v.validateUrl(link), [text, link]))) for link, text in links_text]"
   ]
  },
  {
   "cell_type": "code",
   "execution_count": 8,
   "metadata": {
    "scrolled": false
   },
   "outputs": [
    {
     "data": {
      "text/plain": [
       "[['Thursday January 25, 2018 07:19 PM',\n",
       "  True,\n",
       "  'free',\n",
       "  'https://en.wikipedia.org/wiki/en:free_content'],\n",
       " ['Thursday January 25, 2018 07:19 PM',\n",
       "  True,\n",
       "  'wiki',\n",
       "  'https://en.wikipedia.org/wiki/wiki'],\n",
       " ['Thursday January 25, 2018 07:19 PM',\n",
       "  True,\n",
       "  'Wikipedia',\n",
       "  'https://www.wikipedia.org'],\n",
       " ['Thursday January 25, 2018 07:19 PM',\n",
       "  True,\n",
       "  'In Cote d’Ivoire, partnering with libraries provides opportunities',\n",
       "  'https://blog.wikimedia.org/2018/01/23/cote-divoire-library-partnerships/'],\n",
       " ['Thursday January 25, 2018 07:19 PM',\n",
       "  True,\n",
       "  'Three ways we’re changing the Education team at the Wikimedia Foundation',\n",
       "  'https://blog.wikimedia.org/2018/01/23/education-survey-report/'],\n",
       " ['Thursday January 25, 2018 07:19 PM',\n",
       "  True,\n",
       "  'How we made that net neutrality clickstream diagram',\n",
       "  'https://blog.wikimedia.org/2018/01/18/on-that-net-neutrality-clickstream-diagram/'],\n",
       " ['Thursday January 25, 2018 07:19 PM',\n",
       "  True,\n",
       "  'The public domain starts growing again next year, and it’s about time',\n",
       "  'https://blog.wikimedia.org/2018/01/17/public-domain-grows-next-year/'],\n",
       " ['Thursday January 25, 2018 07:19 PM',\n",
       "  True,\n",
       "  'How to add your photos to Wikimedia Commons and add to the sum of all knowledge',\n",
       "  'https://blog.wikimedia.org/2018/01/17/add-your-photos-to-wikimedia-commons/'],\n",
       " ['Thursday January 25, 2018 07:19 PM',\n",
       "  True,\n",
       "  'Read the complete blog archive. »',\n",
       "  'https://blog.wikimedia.org/'],\n",
       " ['Thursday January 25, 2018 07:19 PM',\n",
       "  True,\n",
       "  'money',\n",
       "  'https://donate.wikimedia.org/wiki/Special:FundraiserRedirector'],\n",
       " ['Thursday January 25, 2018 07:19 PM',\n",
       "  True,\n",
       "  'fundraising',\n",
       "  'https://donate.wikimedia.org/wiki/Special:FundraiserRedirector'],\n",
       " ['Thursday January 25, 2018 07:19 PM',\n",
       "  True,\n",
       "  'Knowledge belongs to all of us.',\n",
       "  'https://annual.wikimedia.org/'],\n",
       " ['Thursday January 25, 2018 07:19 PM',\n",
       "  True,\n",
       "  'The 2016–2017 Annual Report:Knowledge belongs to all of us.',\n",
       "  'https://annual.wikimedia.org/'],\n",
       " ['Thursday January 25, 2018 07:19 PM',\n",
       "  True,\n",
       "  'sign up',\n",
       "  'https://lists.wikimedia.org/mailman/listinfo/WikimediaAnnounce-l'],\n",
       " ['Thursday January 25, 2018 07:19 PM',\n",
       "  True,\n",
       "  '2017–2018 Wikimedia Foundation Annual Plan',\n",
       "  'https://meta.wikimedia.org/wiki/Wikimedia_Foundation_Annual_Plan/2017-2018/Final'],\n",
       " ['Thursday January 25, 2018 07:19 PM',\n",
       "  True,\n",
       "  'Wikimedia Foundation public policy',\n",
       "  'https://policy.wikimedia.org/'],\n",
       " ['Thursday January 25, 2018 07:19 PM',\n",
       "  True,\n",
       "  'Wikimedia Foundation transparency report',\n",
       "  'https://transparency.wikimedia.org/'],\n",
       " ['Thursday January 25, 2018 07:19 PM',\n",
       "  True,\n",
       "  'Website availability status dashboard',\n",
       "  'https://status.wikimedia.org/'],\n",
       " ['Thursday January 25, 2018 07:19 PM',\n",
       "  True,\n",
       "  'office hours',\n",
       "  'https://meta.wikimedia.org/wiki/IRC_Office_Hours'],\n",
       " ['Thursday January 25, 2018 07:19 PM',\n",
       "  True,\n",
       "  'community fundraising landing page',\n",
       "  'https://meta.wikimedia.org/wiki/Fundraising'],\n",
       " ['Thursday January 25, 2018 07:19 PM', True, '', 'https://www.wikipedia.org'],\n",
       " ['Thursday January 25, 2018 07:19 PM',\n",
       "  True,\n",
       "  'Wikipedia',\n",
       "  'https://www.wikipedia.org'],\n",
       " ['Thursday January 25, 2018 07:19 PM',\n",
       "  True,\n",
       "  '',\n",
       "  'https://www.wiktionary.org'],\n",
       " ['Thursday January 25, 2018 07:19 PM',\n",
       "  True,\n",
       "  'Wiktionary',\n",
       "  'https://www.wiktionary.org'],\n",
       " ['Thursday January 25, 2018 07:19 PM', True, '', 'https://www.wikinews.org'],\n",
       " ['Thursday January 25, 2018 07:19 PM',\n",
       "  True,\n",
       "  'Wikinews',\n",
       "  'https://www.wikinews.org'],\n",
       " ['Thursday January 25, 2018 07:19 PM', True, '', 'https://www.wikibooks.org'],\n",
       " ['Thursday January 25, 2018 07:19 PM',\n",
       "  True,\n",
       "  'Wikibooks',\n",
       "  'https://www.wikibooks.org'],\n",
       " ['Thursday January 25, 2018 07:19 PM', True, '', 'https://www.wikiquote.org'],\n",
       " ['Thursday January 25, 2018 07:19 PM',\n",
       "  True,\n",
       "  'Wikiquote',\n",
       "  'https://www.wikiquote.org'],\n",
       " ['Thursday January 25, 2018 07:19 PM',\n",
       "  True,\n",
       "  '',\n",
       "  'https://www.wikisource.org'],\n",
       " ['Thursday January 25, 2018 07:19 PM',\n",
       "  True,\n",
       "  'Wikisource',\n",
       "  'https://www.wikisource.org'],\n",
       " ['Thursday January 25, 2018 07:19 PM',\n",
       "  True,\n",
       "  '',\n",
       "  'https://www.wikiversity.org'],\n",
       " ['Thursday January 25, 2018 07:19 PM',\n",
       "  True,\n",
       "  'Wikiversity',\n",
       "  'https://www.wikiversity.org'],\n",
       " ['Thursday January 25, 2018 07:19 PM',\n",
       "  True,\n",
       "  '',\n",
       "  'https://www.wikivoyage.org'],\n",
       " ['Thursday January 25, 2018 07:19 PM',\n",
       "  True,\n",
       "  'Wikivoyage',\n",
       "  'https://www.wikivoyage.org'],\n",
       " ['Thursday January 25, 2018 07:19 PM',\n",
       "  True,\n",
       "  '',\n",
       "  'https://species.wikimedia.org'],\n",
       " ['Thursday January 25, 2018 07:19 PM',\n",
       "  True,\n",
       "  'Wikispecies',\n",
       "  'https://species.wikimedia.org'],\n",
       " ['Thursday January 25, 2018 07:19 PM',\n",
       "  True,\n",
       "  '',\n",
       "  'https://commons.wikimedia.org'],\n",
       " ['Thursday January 25, 2018 07:19 PM',\n",
       "  True,\n",
       "  'Commons',\n",
       "  'https://commons.wikimedia.org'],\n",
       " ['Thursday January 25, 2018 07:19 PM', True, '', 'https://www.wikidata.org'],\n",
       " ['Thursday January 25, 2018 07:19 PM',\n",
       "  True,\n",
       "  'Wikidata',\n",
       "  'https://www.wikidata.org'],\n",
       " ['Thursday January 25, 2018 07:19 PM', True, '', 'https://www.mediawiki.org'],\n",
       " ['Thursday January 25, 2018 07:19 PM',\n",
       "  True,\n",
       "  'MediaWiki',\n",
       "  'https://www.mediawiki.org'],\n",
       " ['Thursday January 25, 2018 07:19 PM',\n",
       "  True,\n",
       "  'Wikimedia Blog',\n",
       "  'https://blog.wikimedia.org'],\n",
       " ['Thursday January 25, 2018 07:19 PM',\n",
       "  True,\n",
       "  'Wikimedia Shop',\n",
       "  'https://store.wikimedia.org'],\n",
       " ['Thursday January 25, 2018 07:19 PM',\n",
       "  True,\n",
       "  'Creative Commons Attribution-ShareAlike License',\n",
       "  'https://creativecommons.org/licenses/by-sa/3.0/'],\n",
       " ['Thursday January 25, 2018 07:19 PM',\n",
       "  True,\n",
       "  'Developers',\n",
       "  'https://www.mediawiki.org/wiki/Special:MyLanguage/How_to_contribute'],\n",
       " ['Thursday January 25, 2018 07:19 PM',\n",
       "  True,\n",
       "  '',\n",
       "  'https://www.mediawiki.org/']]"
      ]
     },
     "execution_count": 8,
     "metadata": {},
     "output_type": "execute_result"
    }
   ],
   "source": [
    "res"
   ]
  },
  {
   "cell_type": "markdown",
   "metadata": {},
   "source": [
    "#### Save the external links(urls), textual description, a boolean for valid, and the last vaild datetime check to an excel file:"
   ]
  },
  {
   "cell_type": "code",
   "execution_count": 9,
   "metadata": {
    "collapsed": true
   },
   "outputs": [],
   "source": [
    "import pandas as pd\n",
    "df = pd.DataFrame(res)\n",
    "df.columns = ['Check Datetime', 'Valid', 'Text', 'External Link']\n",
    "df.to_csv('web_external_links.csv')"
   ]
  }
 ],
 "metadata": {
  "kernelspec": {
   "display_name": "Python 3",
   "language": "python",
   "name": "python3"
  },
  "language_info": {
   "codemirror_mode": {
    "name": "ipython",
    "version": 3
   },
   "file_extension": ".py",
   "mimetype": "text/x-python",
   "name": "python",
   "nbconvert_exporter": "python",
   "pygments_lexer": "ipython3",
   "version": "3.6.3"
  }
 },
 "nbformat": 4,
 "nbformat_minor": 2
}
